{
 "cells": [
  {
   "cell_type": "code",
   "execution_count": 1,
   "id": "7122860a",
   "metadata": {},
   "outputs": [],
   "source": [
    "import numpy as np\n",
    "from matplotlib import pyplot as plt"
   ]
  },
  {
   "cell_type": "markdown",
   "id": "15ebb2b5",
   "metadata": {},
   "source": [
    "We start with three different input patterns that we will use to train the network. The are strings of minus ones and plus ones, which, when rendered as 5-by-5 pixels look like the digits \"1\", \"2\" and \"0\". "
   ]
  },
  {
   "cell_type": "code",
   "execution_count": 2,
   "id": "3c10281a",
   "metadata": {},
   "outputs": [],
   "source": [
    "x1 = np.array([-1, 1, 1,-1,-1,\n",
    "               -1,-1, 1,-1,-1,\n",
    "               -1,-1, 1,-1,-1, \n",
    "               -1,-1, 1,-1,-1,\n",
    "               -1, 1, 1, 1,-1])\n",
    "x2 = np.array([-1, 1, 1,-1,-1,\n",
    "                1,-1,-1, 1,-1,\n",
    "               -1,-1, 1,-1,-1, \n",
    "               -1, 1,-1,-1,-1,\n",
    "               1, 1, 1, 1,-1])\n",
    "x3 = np.array([-1, 1, 1, 1,-1,\n",
    "                1,-1,-1,-1, 1,\n",
    "                1,-1,-1,-1, 1, \n",
    "                1,-1,-1,-1, 1,\n",
    "               -1, 1, 1, 1,-1])\n"
   ]
  },
  {
   "cell_type": "code",
   "execution_count": 3,
   "id": "ad328134",
   "metadata": {
    "scrolled": true
   },
   "outputs": [
    {
     "data": {
      "image/png": "[encoded data removed]",
      "text/plain": [
       "<Figure size 432x288 with 3 Axes>"
      ]
     },
     "metadata": {
      "needs_background": "light"
     },
     "output_type": "display_data"
    }
   ],
   "source": [
    "plt.subplot(131)\n",
    "plt.imshow(x1.reshape(5,5))\n",
    "plt.subplot(132)\n",
    "plt.imshow(x2.reshape(5,5))\n",
    "plt.subplot(133)\n",
    "plt.imshow(x3.reshape(5,5))\n",
    "plt.show()"
   ]
  },
  {
   "cell_type": "markdown",
   "id": "a6095981",
   "metadata": {},
   "source": [
    "Next we create the weight matrix `w` which has 25 rows and 25 columns. Initially all weights are zero."
   ]
  },
  {
   "cell_type": "code",
   "execution_count": 4,
   "id": "3e762a0a",
   "metadata": {},
   "outputs": [],
   "source": [
    "n = x1.shape[0]\n",
    "w = np.zeros((n,n))"
   ]
  },
  {
   "cell_type": "markdown",
   "id": "4abf44d7",
   "metadata": {},
   "source": [
    "Now we loop over the three training images. For each image we increase the weight `w[i,j]` by one if the pixels in the training image have the same value, and we decrease the weight if the pixels have different values."
   ]
  },
  {
   "cell_type": "code",
   "execution_count": 5,
   "id": "cc4429d6",
   "metadata": {},
   "outputs": [],
   "source": [
    "xx = np.array([x1, x2, x3])\n",
    "for k in range(xx.shape[0]):\n",
    "    for i in range(n):\n",
    "        for j in range(n):\n",
    "            if i != j:\n",
    "                w[i,j] += xx[k,i] * xx[k,j]\n"
   ]
  },
  {
   "cell_type": "markdown",
   "id": "747fdaa0",
   "metadata": {},
   "source": [
    "For interest, the resulting weight matrix looks as follows:"
   ]
  },
  {
   "cell_type": "code",
   "execution_count": 6,
   "id": "c1499085",
   "metadata": {},
   "outputs": [
    {
     "data": {
      "image/png": "[encoded data removed]",
      "text/plain": [
       "<Figure size 432x288 with 2 Axes>"
      ]
     },
     "metadata": {
      "needs_background": "light"
     },
     "output_type": "display_data"
    }
   ],
   "source": [
    "plt.imshow(w)\n",
    "plt.colorbar()\n",
    "plt.show()"
   ]
  },
  {
   "cell_type": "markdown",
   "id": "32727932",
   "metadata": {},
   "source": [
    "That was the entire training of the neural network. Now we let it \"react\" to new stimuli."
   ]
  },
  {
   "cell_type": "code",
   "execution_count": 7,
   "id": "7d15c163",
   "metadata": {},
   "outputs": [
    {
     "data": {
      "image/png": "[encoded data removed]",
      "text/plain": [
       "<Figure size 432x288 with 1 Axes>"
      ]
     },
     "metadata": {
      "needs_background": "light"
     },
     "output_type": "display_data"
    }
   ],
   "source": [
    "x_new = np.array([-1,-1, 1,-1,-1,\n",
    "                  -1, 1, 1,-1,-1,\n",
    "                  -1,-1, 1,-1,-1, \n",
    "                  -1,-1,-1,-1,-1,\n",
    "                  -1, 1,-1, 1,-1])\n",
    "plt.imshow(x_new.reshape(5,5))\n",
    "plt.show()"
   ]
  },
  {
   "cell_type": "markdown",
   "id": "07c2f61d",
   "metadata": {},
   "source": [
    "In the three training images, pixels 2 and 3 (the 2nd and 3rd in the top row) always showed the same value. Therefore, the connection between the two is very strong (`w[2,3] = +3`). In the new image, pixel 3 is plus one (\"neuron 3 fires\"), so pixel 3 should send a strong impulse to pixel 2 to also be plus one. Likewise, if it were negative, it should send a strong impulse to pixel 2 to be minus one. So the product `w[2,3] * x_new[3]` is a reasonable quantity to use for the activation impulse that `x_new[3]` sends to pixel 2.\n",
    "\n",
    "Now pixel 2 gets such impulses not only from pixel 3, but from 23 other pixels as well. How does it deal with all these different inputs? A reasonable thing to do is to add them all up. The impulse from some pixels will be in the positive direction, the impulse from some will be in the negative direction. By adding all the impulses up, it can react to the consensus of all the pixels to which it is connected. So the total impuls that pixel 2 sees is given by\n",
    "\n",
    "    w[2,1] * x_new[1] + w[2,3] * x_new[3] + ... + w[2,25] * x_new[25]\n",
    "\n",
    "And the same is true for all the other pixels. If we set the connection of a pixel with itself `w[i,i]` to zero (which we have done in the calculation above), we have the impulse that pixel `i` gets from all the others given by\n",
    "\n",
    "    w[i,1] * x_new[1] + w[i,2] * x_new[2] + ... + w[i,25] * x_new[25]\n",
    "    \n",
    "If we let `y_new` denote the vector of the 25 responses of the 25 pixels to the input `x_new`, the equation above implies the `y_new` is the matrix-vector-product of the 25-by-25 matrix `w` whose element `w[i,j]` is the connection strength between pixel `i` and pixel `j`, and the vector `x_new` which has 25 elements.\n",
    "\n",
    "    y_new = np.matmul(w, x_new)\n",
    "    \n",
    "Lastly, we simply say that the `i`-th pixel is +1 (neuron `i` fires) if the sum impulse it gets from all the other pixels is greater than 0. If the sum impulse is not greater than zero, it is minus 1 (neuron `i` doesn't fire). All this is encoded in the equation for `y_new` below: "
   ]
  },
  {
   "cell_type": "code",
   "execution_count": 8,
   "id": "30e5a8eb",
   "metadata": {},
   "outputs": [
    {
     "data": {
      "image/png": "[encoded data removed]",
      "text/plain": [
       "<Figure size 432x288 with 2 Axes>"
      ]
     },
     "metadata": {
      "needs_background": "light"
     },
     "output_type": "display_data"
    }
   ],
   "source": [
    "y_new = 2 * (np.matmul(w, x_new) > 0) - 1\n",
    "plt.subplot(121)\n",
    "plt.imshow(x_new.reshape(5,5))\n",
    "plt.subplot(122)\n",
    "plt.imshow(y_new.reshape(5,5))\n",
    "plt.show()"
   ]
  },
  {
   "cell_type": "code",
   "execution_count": 9,
   "id": "5ad32109",
   "metadata": {},
   "outputs": [
    {
     "data": {
      "image/png": "[encoded data removed]",
      "text/plain": [
       "<Figure size 432x288 with 2 Axes>"
      ]
     },
     "metadata": {
      "needs_background": "light"
     },
     "output_type": "display_data"
    }
   ],
   "source": [
    "x_new = np.array([ 1, 1, 1, 1, 1,\n",
    "                  -1,-1,-1, 1,-1,\n",
    "                  -1,-1, 1,-1,-1, \n",
    "                  -1, 1,-1,-1,-1,\n",
    "                   1, 1, 1, 1, 1])\n",
    "\n",
    "y_new = 2 * (np.matmul(w, x_new) > 0) - 1\n",
    "plt.subplot(121)\n",
    "plt.imshow(x_new.reshape(5,5))\n",
    "plt.subplot(122)\n",
    "plt.imshow(y_new.reshape(5,5))\n",
    "plt.show()"
   ]
  },
  {
   "cell_type": "code",
   "execution_count": 10,
   "id": "1070cf5e",
   "metadata": {},
   "outputs": [
    {
     "data": {
      "image/png": "[encoded data removed]",
      "text/plain": [
       "<Figure size 432x288 with 2 Axes>"
      ]
     },
     "metadata": {
      "needs_background": "light"
     },
     "output_type": "display_data"
    }
   ],
   "source": [
    "x_new = np.array([1, 1, 1, 1, 1,\n",
    "                  1,-1,-1,-1, 1,\n",
    "                  1,-1,-1,-1, 1, \n",
    "                  1,-1,-1,-1, 1,\n",
    "                  1, 1, 1, 1, 1])\n",
    "y_new = 2 * (np.matmul(w, x_new) > 0) - 1\n",
    "plt.subplot(121)\n",
    "plt.imshow(x_new.reshape(5,5))\n",
    "plt.subplot(122)\n",
    "plt.imshow(y_new.reshape(5,5))\n",
    "plt.show()"
   ]
  },
  {
   "cell_type": "markdown",
   "id": "634329a6",
   "metadata": {},
   "source": [
    "In conclusion we see that the thus generated neuron firing pattern in response to a new input \"recalls\" the input that was seen during training that is \"closest\" or \"most similar\" to the new input.\n",
    "\n",
    "The Hopfield network exhibits learning and associative memory."
   ]
  }
 ],
 "metadata": {
  "kernelspec": {
   "display_name": "Python 3 (ipykernel)",
   "language": "python",
   "name": "python3"
  },
  "language_info": {
   "codemirror_mode": {
    "name": "ipython",
    "version": 3
   },
   "file_extension": ".py",
   "mimetype": "text/x-python",
   "name": "python",
   "nbconvert_exporter": "python",
   "pygments_lexer": "ipython3",
   "version": "3.10.4"
  }
 },
 "nbformat": 4,
 "nbformat_minor": 5
}
